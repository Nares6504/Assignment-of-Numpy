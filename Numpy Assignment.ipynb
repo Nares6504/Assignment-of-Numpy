{
 "cells": [
  {
   "cell_type": "code",
   "execution_count": 1,
   "id": "690c53ce-647b-4d71-bc67-b0f4e273be14",
   "metadata": {},
   "outputs": [
    {
     "name": "stdout",
     "output_type": "stream",
     "text": [
      "Array: [0 1 2 3 4 5]\n",
      "Data type: int64\n"
     ]
    }
   ],
   "source": [
    "#1. Create a NumPy array 'arr' of integers from 0 to 5 and print its data type.\n",
    "\n",
    "import numpy as np\n",
    "\n",
    "arr = np.arange(6)\n",
    "print(\"Array:\", arr)\n",
    "print(\"Data type:\", arr.dtype)"
   ]
  },
  {
   "cell_type": "code",
   "execution_count": 2,
   "id": "5f63faba-b4ab-4e0c-9d20-390ed2f3b376",
   "metadata": {},
   "outputs": [
    {
     "name": "stdout",
     "output_type": "stream",
     "text": [
      "Array: [1.5 2.6 3.7]\n",
      "Data type: float64\n",
      "Is the data type float64? True\n"
     ]
    }
   ],
   "source": [
    "#2. Given a NumPy array 'arr', check if its data type is float64.\n",
    "\n",
    "arr = np.array([1.5, 2.6, 3.7])\n",
    "\n",
    "is_float64 = arr.dtype == np.float64\n",
    "\n",
    "print(\"Array:\", arr)\n",
    "print(\"Data type:\", arr.dtype)\n",
    "print(\"Is the data type float64?\", is_float64)"
   ]
  },
  {
   "cell_type": "code",
   "execution_count": 3,
   "id": "f7e1c47c-8109-4af1-89f0-067085dbb2f2",
   "metadata": {},
   "outputs": [
    {
     "name": "stdout",
     "output_type": "stream",
     "text": [
      "Array: [1.+2.j 3.+4.j 5.+6.j]\n",
      "Data type: complex128\n"
     ]
    }
   ],
   "source": [
    "#3. Create a NumPy array 'arr' with a data type of complex128 containing three complex numbers.\n",
    "\n",
    "arr = np.array([1+2j, 3+4j, 5+6j], dtype=np.complex128)\n",
    "\n",
    "print(\"Array:\", arr)\n",
    "print(\"Data type:\", arr.dtype)"
   ]
  },
  {
   "cell_type": "code",
   "execution_count": 4,
   "id": "872795d2-057d-4565-9947-d0b85b096e42",
   "metadata": {},
   "outputs": [
    {
     "name": "stdout",
     "output_type": "stream",
     "text": [
      "Original array: [1 2 3 4 5]\n",
      "Original data type: int64\n",
      "Converted array: [1. 2. 3. 4. 5.]\n",
      "Converted data type: float32\n"
     ]
    }
   ],
   "source": [
    "#4. Convert an existing NumPy array 'arr' of integers to float32 data type.\n",
    "\n",
    "arr = np.array([1, 2, 3, 4, 5])\n",
    "\n",
    "arr_float32 = arr.astype(np.float32)\n",
    "\n",
    "print(\"Original array:\", arr)\n",
    "print(\"Original data type:\", arr.dtype)\n",
    "print(\"Converted array:\", arr_float32)\n",
    "print(\"Converted data type:\", arr_float32.dtype)"
   ]
  },
  {
   "cell_type": "code",
   "execution_count": 5,
   "id": "0ff3d491-32e8-46f6-aeab-e53766e11e8a",
   "metadata": {},
   "outputs": [
    {
     "name": "stdout",
     "output_type": "stream",
     "text": [
      "Original array: [1.23456789 2.3456789  3.45678901]\n",
      "Original data type: float64\n",
      "Converted array: [1.2345679 2.3456788 3.456789 ]\n",
      "Converted data type: float32\n"
     ]
    }
   ],
   "source": [
    "#5. Given a NumPy array 'arr' with float64 data type, convert it to float32 to reduce decimal precision.\n",
    "\n",
    "arr = np.array([1.234567890123456, 2.345678901234567, 3.456789012345678], dtype=np.float64)\n",
    "\n",
    "arr_float32 = arr.astype(np.float32)\n",
    "\n",
    "print(\"Original array:\", arr)\n",
    "print(\"Original data type:\", arr.dtype)\n",
    "print(\"Converted array:\", arr_float32)\n",
    "print(\"Converted data type:\", arr_float32.dtype)"
   ]
  },
  {
   "cell_type": "code",
   "execution_count": 6,
   "id": "2d9bb479-7c9f-42cc-b87b-d2b616e5ed6a",
   "metadata": {},
   "outputs": [
    {
     "name": "stdout",
     "output_type": "stream",
     "text": [
      "Shape: (3,)\n",
      "Size: 3\n",
      "Data type: float64\n"
     ]
    }
   ],
   "source": [
    "#6. Write a function array_attributes that takes a NumPy array as input and returns its shape, size, and data type.\n",
    "\n",
    "def array_attributes(arr):\n",
    "    shape = arr.shape\n",
    "    size = arr.size\n",
    "    dtype = arr.dtype\n",
    "    return shape, size, dtype\n",
    "\n",
    "arr = np.array([1.5, 2.6, 3.7])\n",
    "attributes = array_attributes(arr)\n",
    "print(\"Shape:\", attributes[0])\n",
    "print(\"Size:\", attributes[1])\n",
    "print(\"Data type:\", attributes[2])"
   ]
  },
  {
   "cell_type": "code",
   "execution_count": 7,
   "id": "319d8185-75c3-40b0-be63-e9c709dd163f",
   "metadata": {},
   "outputs": [
    {
     "name": "stdout",
     "output_type": "stream",
     "text": [
      "Dimensionality of arr1: 2\n",
      "Dimensionality of arr2: 3\n"
     ]
    }
   ],
   "source": [
    "#7. Create a function array_dimension that takes a NumPy array as input and returns its dimensionality.\n",
    "\n",
    "def array_dimension(arr):\n",
    "    return arr.ndim\n",
    "\n",
    "arr1 = np.array([[1, 2, 3], [4, 5, 6]])\n",
    "print(\"Dimensionality of arr1:\", array_dimension(arr1)) \n",
    "\n",
    "arr2 = np.array([[[1, 2], [3, 4]], [[5, 6], [7, 8]]])\n",
    "print(\"Dimensionality of arr2:\", array_dimension(arr2)) "
   ]
  },
  {
   "cell_type": "code",
   "execution_count": 8,
   "id": "7dd850b8-6b85-4f06-a24f-6a5d7193220b",
   "metadata": {},
   "outputs": [
    {
     "name": "stdout",
     "output_type": "stream",
     "text": [
      "Item size (bytes): 8\n",
      "Total size (bytes): 48\n"
     ]
    }
   ],
   "source": [
    "#8. Design a function item_size_info that takes a NumPy array as input and returns the item size and the total size in bytes.\n",
    "\n",
    "def item_size_info(arr):\n",
    "    item_size = arr.itemsize\n",
    "    total_size = arr.size * item_size\n",
    "    return item_size, total_size\n",
    "\n",
    "arr = np.array([[1, 2, 3], [4, 5, 6]])\n",
    "item_size, total_size = item_size_info(arr)\n",
    "print(\"Item size (bytes):\", item_size)  \n",
    "print(\"Total size (bytes):\", total_size) "
   ]
  },
  {
   "cell_type": "code",
   "execution_count": 9,
   "id": "1d8e5d3d-f73e-4022-a458-b54d3a915959",
   "metadata": {},
   "outputs": [
    {
     "name": "stdout",
     "output_type": "stream",
     "text": [
      "Strides: (24, 8)\n"
     ]
    }
   ],
   "source": [
    "#9. Create a function array_strides that takes a NumPy array as input and returns the strides of the array.\n",
    "\n",
    "def array_strides(arr):\n",
    "    return arr.strides\n",
    "\n",
    "arr = np.array([[1, 2, 3], [4, 5, 6]])\n",
    "strides = array_strides(arr)\n",
    "print(\"Strides:\", strides)  "
   ]
  },
  {
   "cell_type": "code",
   "execution_count": 10,
   "id": "1cf5d2c9-5d8a-4db4-8f08-0c9e8d72ca66",
   "metadata": {},
   "outputs": [
    {
     "name": "stdout",
     "output_type": "stream",
     "text": [
      "Shape: (2, 3)\n",
      "Strides: (24, 8)\n"
     ]
    }
   ],
   "source": [
    "#10. Design a function shape_stride_relationship that takes a NumPy array as input and returns the shape and strides of the array.\n",
    "\n",
    "def shape_stride_relationship(arr):\n",
    "    return arr.shape, arr.strides\n",
    "\n",
    "arr = np.array([[1, 2, 3], [4, 5, 6]])\n",
    "shape, strides = shape_stride_relationship(arr)\n",
    "print(\"Shape:\", shape)  \n",
    "print(\"Strides:\", strides)  "
   ]
  },
  {
   "cell_type": "code",
   "execution_count": 11,
   "id": "add7b706-c907-4151-a80e-12807207a543",
   "metadata": {},
   "outputs": [
    {
     "name": "stdout",
     "output_type": "stream",
     "text": [
      "[0. 0. 0. 0. 0.]\n"
     ]
    }
   ],
   "source": [
    "#11. Create a function `create_zeros_array` that takes an integer `n` as input and returns a NumPy array of zeros with `n` elements.\n",
    "\n",
    "def create_zeros_array(n):\n",
    "    return np.zeros(n)\n",
    "\n",
    "n = 5\n",
    "zeros_arr = create_zeros_array(n)\n",
    "print(zeros_arr) "
   ]
  },
  {
   "cell_type": "code",
   "execution_count": 12,
   "id": "950333cf-95d4-4137-b95f-58aed4cb99b7",
   "metadata": {},
   "outputs": [
    {
     "name": "stdout",
     "output_type": "stream",
     "text": [
      "[[1. 1. 1. 1.]\n",
      " [1. 1. 1. 1.]\n",
      " [1. 1. 1. 1.]]\n"
     ]
    }
   ],
   "source": [
    "#12. Write a function `create_ones_matrix` that takes integers `rows` and `cols` as inputs and generates a 2D NumPy array filled with ones of size `rows x cols`.\n",
    "\n",
    "def create_ones_matrix(rows, cols):\n",
    "    return np.ones((rows, cols))\n",
    "\n",
    "rows = 3\n",
    "cols = 4\n",
    "ones_matrix = create_ones_matrix(rows, cols)\n",
    "print(ones_matrix)"
   ]
  },
  {
   "cell_type": "code",
   "execution_count": 13,
   "id": "496ae0b1-d099-42c2-82e8-c5bbf79fe2f9",
   "metadata": {},
   "outputs": [
    {
     "name": "stdout",
     "output_type": "stream",
     "text": [
      "[1 3 5 7 9]\n"
     ]
    }
   ],
   "source": [
    "#13. Write a function `generate_range_array` that takes three integers start, stop, and step as arguments and creates a NumPy array with a range starting from `start`, ending at stop (exclusive), and with the specified `step`.\n",
    "\n",
    "def generate_range_array(start, stop, step):\n",
    "    return np.arange(start, stop, step)\n",
    "\n",
    "start = 1\n",
    "stop = 10\n",
    "step = 2\n",
    "range_array = generate_range_array(start, stop, step)\n",
    "print(range_array)  "
   ]
  },
  {
   "cell_type": "code",
   "execution_count": 14,
   "id": "7564b47e-d92d-406c-9c85-c18c368a63b2",
   "metadata": {},
   "outputs": [
    {
     "name": "stdout",
     "output_type": "stream",
     "text": [
      "[0.5 1.  1.5 2.  2.5]\n"
     ]
    }
   ],
   "source": [
    "#14. Design a function `generate_linear_space` that takes two floats `start`, `stop`, and an integer `num` as arguments and generates a NumPy array with num equally spaced values between `start` and `stop` (inclusive).\n",
    "\n",
    "def generate_linear_space(start, stop, num):\n",
    "    return np.linspace(start, stop, num)\n",
    "\n",
    "start = 0.5\n",
    "stop = 2.5\n",
    "num = 5\n",
    "linear_space_array = generate_linear_space(start, stop, num)\n",
    "print(linear_space_array)  "
   ]
  },
  {
   "cell_type": "code",
   "execution_count": 15,
   "id": "4f33b679-2219-4c5a-b49a-b6e4bfa36b71",
   "metadata": {},
   "outputs": [
    {
     "name": "stdout",
     "output_type": "stream",
     "text": [
      "[[1. 0. 0.]\n",
      " [0. 1. 0.]\n",
      " [0. 0. 1.]]\n"
     ]
    }
   ],
   "source": [
    "#15. Create a function `create_identity_matrix` that takes an integer `n` as input and generates a square identity matrix of size `n x n` using `numpy.eye`.\n",
    "\n",
    "def create_identity_matrix(n):\n",
    "    return np.eye(n)\n",
    "\n",
    "n = 3\n",
    "identity_matrix = create_identity_matrix(n)\n",
    "print(identity_matrix)"
   ]
  },
  {
   "cell_type": "code",
   "execution_count": 16,
   "id": "5b913f15-0aa6-42d2-9c50-2be22c71aab7",
   "metadata": {},
   "outputs": [
    {
     "name": "stdout",
     "output_type": "stream",
     "text": [
      "[1 2 3 4 5]\n"
     ]
    }
   ],
   "source": [
    "#16. Write a function that takes a Python list and converts it into a NumPy array.\n",
    "\n",
    "def list_to_numpy_array(lst):\n",
    "    return np.array(lst)\n",
    "\n",
    "my_list = [1, 2, 3, 4, 5]\n",
    "numpy_array = list_to_numpy_array(my_list)\n",
    "print(numpy_array)"
   ]
  },
  {
   "cell_type": "code",
   "execution_count": 17,
   "id": "05061f34-a91d-4bc0-9a17-89d81e356e41",
   "metadata": {},
   "outputs": [
    {
     "name": "stdout",
     "output_type": "stream",
     "text": [
      "Original Array:\n",
      "[[10  2  3]\n",
      " [ 4  5  6]]\n",
      "\n",
      "View Array:\n",
      "[[10  2]\n",
      " [ 3  4]\n",
      " [ 5  6]]\n"
     ]
    }
   ],
   "source": [
    "#17. Create a NumPy array and demonstrate the use of `numpy.view` to create a new array object with the same data.\n",
    "\n",
    "original_array = np.array([[1, 2, 3], [4, 5, 6]])\n",
    "view_array = original_array.view()\n",
    "view_array.shape = (3, 2)\n",
    "\n",
    "view_array[0, 0] = 10\n",
    "\n",
    "print(\"Original Array:\")\n",
    "print(original_array)\n",
    "print(\"\\nView Array:\")\n",
    "print(view_array)"
   ]
  },
  {
   "cell_type": "code",
   "execution_count": 18,
   "id": "5decb088-7769-4722-9b29-cebdc33fc9b4",
   "metadata": {},
   "outputs": [
    {
     "name": "stdout",
     "output_type": "stream",
     "text": [
      "[[1 2]\n",
      " [3 4]\n",
      " [5 6]]\n"
     ]
    }
   ],
   "source": [
    "#18. Write a function that takes two NumPy arrays and concatenates them along a specified axis.\n",
    "\n",
    "def concatenate_arrays(arr1, arr2, axis=0):\n",
    "    return np.concatenate((arr1, arr2), axis=axis)\n",
    "\n",
    "arr1 = np.array([[1, 2], [3, 4]])\n",
    "arr2 = np.array([[5, 6]])\n",
    "concatenated_array = concatenate_arrays(arr1, arr2, axis=0)\n",
    "print(concatenated_array)"
   ]
  },
  {
   "cell_type": "code",
   "execution_count": 19,
   "id": "ae823bf0-8ba2-44ac-a336-dd7c0c804c32",
   "metadata": {},
   "outputs": [
    {
     "name": "stdout",
     "output_type": "stream",
     "text": [
      "Array 1:\n",
      "[[1 2 3]\n",
      " [4 5 6]]\n",
      "\n",
      "Array 2:\n",
      "[[ 7  8]\n",
      " [ 9 10]]\n",
      "\n",
      "Concatenated array:\n",
      "[[ 1  2  3  7  8]\n",
      " [ 4  5  6  9 10]]\n"
     ]
    }
   ],
   "source": [
    "#19. Create two NumPy arrays with different shapes and concatenate them horizontally using `numpy. concatenate`.\n",
    "\n",
    "arr1 = np.array([[1, 2, 3], [4, 5, 6]])\n",
    "arr2 = np.array([[7, 8], [9, 10]])\n",
    "concatenated_array = np.concatenate((arr1, arr2), axis=1)\n",
    "\n",
    "print(\"Array 1:\")\n",
    "print(arr1)\n",
    "print(\"\\nArray 2:\")\n",
    "print(arr2)\n",
    "print(\"\\nConcatenated array:\")\n",
    "print(concatenated_array)"
   ]
  },
  {
   "cell_type": "code",
   "execution_count": 20,
   "id": "9eec2803-6a30-452f-8c84-cfe22e0c9838",
   "metadata": {},
   "outputs": [
    {
     "name": "stdout",
     "output_type": "stream",
     "text": [
      "[[ 1  2]\n",
      " [ 3  4]\n",
      " [ 5  6]\n",
      " [ 7  8]\n",
      " [ 9 10]]\n"
     ]
    }
   ],
   "source": [
    "#20. Write a function that vertically stacks multiple NumPy arrays given as a list.\n",
    "\n",
    "def stack_arrays_vertically(arrays):\n",
    "    return np.vstack(arrays)\n",
    "\n",
    "arr1 = np.array([[1, 2], [3, 4]])\n",
    "arr2 = np.array([[5, 6], [7, 8]])\n",
    "arr3 = np.array([[9, 10]])\n",
    "\n",
    "stacked_array = stack_arrays_vertically([arr1, arr2, arr3])\n",
    "print(stacked_array)"
   ]
  },
  {
   "cell_type": "code",
   "execution_count": 21,
   "id": "face0f72-9dc6-48e4-bb65-fe7429b23708",
   "metadata": {},
   "outputs": [
    {
     "name": "stdout",
     "output_type": "stream",
     "text": [
      "[1 3 5 7 9]\n"
     ]
    }
   ],
   "source": [
    "#21. Write a Python function using NumPy to create an array of integers within a specified range (inclusive) with a given step size.\n",
    "\n",
    "def create_integer_array(start, stop, step=1):\n",
    "    return np.arange(start, stop + 1, step, dtype=int)\n",
    "\n",
    "start = 1\n",
    "stop = 10\n",
    "step = 2\n",
    "integer_array = create_integer_array(start, stop, step)\n",
    "print(integer_array)"
   ]
  },
  {
   "cell_type": "code",
   "execution_count": 22,
   "id": "5d4bb7bb-c605-4ed5-b17e-d8261f82842a",
   "metadata": {},
   "outputs": [
    {
     "name": "stdout",
     "output_type": "stream",
     "text": [
      "[0.         0.11111111 0.22222222 0.33333333 0.44444444 0.55555556\n",
      " 0.66666667 0.77777778 0.88888889 1.        ]\n"
     ]
    }
   ],
   "source": [
    "#22. Write a Python function using NumPy to generate an array of 10 equally spaced values between 0 and 1 (inclusive).\n",
    "\n",
    "def generate_equally_spaced_values():\n",
    "    return np.linspace(0, 1, 10)\n",
    "\n",
    "equally_spaced_values = generate_equally_spaced_values()\n",
    "print(equally_spaced_values)"
   ]
  },
  {
   "cell_type": "code",
   "execution_count": 23,
   "id": "61b0aa84-3d0a-4ccb-bfc1-a86fea85815a",
   "metadata": {},
   "outputs": [
    {
     "name": "stdout",
     "output_type": "stream",
     "text": [
      "[   1.            5.62341325   31.6227766   177.827941   1000.        ]\n"
     ]
    }
   ],
   "source": [
    "#23. Write a Python function using NumPy to create an array of 5 logarithmically spaced values between 1 and 1000 (inclusive).\n",
    "\n",
    "def generate_logarithmically_spaced_values():\n",
    "    return np.logspace(0, 3, 5)\n",
    "\n",
    "logarithmically_spaced_values = generate_logarithmically_spaced_values()\n",
    "print(logarithmically_spaced_values)"
   ]
  },
  {
   "cell_type": "code",
   "execution_count": 24,
   "id": "6b31d7a3-6351-4115-81d6-6994038fb493",
   "metadata": {},
   "outputs": [
    {
     "name": "stdout",
     "output_type": "stream",
     "text": [
      "   Column1  Column2  Column3\n",
      "0       45       48       65\n",
      "1       68       68       10\n",
      "2       84       22       37\n",
      "3       88       71       89\n",
      "4       89       13       59\n"
     ]
    }
   ],
   "source": [
    "#24. Create a Pandas DataFrame using a NumPy array that contains 5 rows and 3 columns, where the values are random integers between 1 and 100.\n",
    "\n",
    "import numpy as np\n",
    "import pandas as pd\n",
    "\n",
    "np.random.seed(0)  \n",
    "data = np.random.randint(1, 101, size=(5, 3))\n",
    "\n",
    "df = pd.DataFrame(data, columns=['Column1', 'Column2', 'Column3'])\n",
    "\n",
    "print(df)"
   ]
  },
  {
   "cell_type": "code",
   "execution_count": 25,
   "id": "a95fe431-a60f-4a66-bf78-93b9f2e556aa",
   "metadata": {},
   "outputs": [
    {
     "name": "stdout",
     "output_type": "stream",
     "text": [
      "Original DataFrame:\n",
      "   A   B\n",
      "0  1  10\n",
      "1 -2 -20\n",
      "2  3  30\n",
      "3 -4 -40\n",
      "4  5  50\n",
      "\n",
      "DataFrame with negative values replaced by zeros in column 'A':\n",
      "   A   B\n",
      "0  1  10\n",
      "1  0 -20\n",
      "2  3  30\n",
      "3  0 -40\n",
      "4  5  50\n"
     ]
    }
   ],
   "source": [
    "#25. Write a function that takes a Pandas DataFrame and replaces all negative values in a specific column with zeros. Use NumPy operations within the Pandas DataFrame.\n",
    "\n",
    "def replace_negatives_with_zeros(dataframe, column):\n",
    "    dataframe[column] = dataframe[column].apply(lambda x: max(x, 0))\n",
    "    return dataframe\n",
    "\n",
    "data = {'A': [1, -2, 3, -4, 5],\n",
    "        'B': [10, -20, 30, -40, 50]}\n",
    "df = pd.DataFrame(data)\n",
    "\n",
    "print(\"Original DataFrame:\")\n",
    "print(df)\n",
    "\n",
    "df_modified = replace_negatives_with_zeros(df, 'A')\n",
    "\n",
    "print(\"\\nDataFrame with negative values replaced by zeros in column 'A':\")\n",
    "print(df_modified)"
   ]
  },
  {
   "cell_type": "code",
   "execution_count": 26,
   "id": "3f106e42-0379-4bf3-9dda-31cb4e85573a",
   "metadata": {},
   "outputs": [
    {
     "name": "stdout",
     "output_type": "stream",
     "text": [
      "Third element of the array: 30\n"
     ]
    }
   ],
   "source": [
    "#26. Access the 3rd element from the given NumPy array.\n",
    "\n",
    "arr = np.array([10, 20, 30, 40, 50])\n",
    "third_element = arr[2]\n",
    "\n",
    "print(\"Third element of the array:\", third_element)"
   ]
  },
  {
   "cell_type": "code",
   "execution_count": 27,
   "id": "ad1824f2-56d8-4607-98ae-40537d315ebe",
   "metadata": {},
   "outputs": [
    {
     "name": "stdout",
     "output_type": "stream",
     "text": [
      "Element at index (1, 2): 6\n"
     ]
    }
   ],
   "source": [
    "#27. Retrieve the element at index (1, 2) from the 2D NumPy array.\n",
    "\n",
    "arr_2d = np.array([[1, 2, 3],\n",
    "                   [4, 5, 6],\n",
    "                   [7, 8, 9]])\n",
    "element = arr_2d[1, 2]\n",
    "print(\"Element at index (1, 2):\", element)"
   ]
  },
  {
   "cell_type": "code",
   "execution_count": 28,
   "id": "41a6a2be-e959-4bd9-a549-853bee9d9a6f",
   "metadata": {},
   "outputs": [
    {
     "name": "stdout",
     "output_type": "stream",
     "text": [
      "Elements greater than 5: [ 8 10  7]\n"
     ]
    }
   ],
   "source": [
    "#28. Using boolean indexing, extract elements greater than 5 from the given NumPy array.\n",
    "\n",
    "arr = np.array([3, 8, 2, 10, 5, 7])\n",
    "result = arr[arr > 5]\n",
    "print(\"Elements greater than 5:\", result)"
   ]
  },
  {
   "cell_type": "code",
   "execution_count": 29,
   "id": "6ef915a1-7288-4ecd-8fe9-620f2520a24c",
   "metadata": {},
   "outputs": [
    {
     "name": "stdout",
     "output_type": "stream",
     "text": [
      "Extracted elements: [3 4 5 6]\n"
     ]
    }
   ],
   "source": [
    "#29. Perform basic slicing to extract elements from index 2 to 5 (inclusive) from the given NumPy array\n",
    "\n",
    "arr = np.array([1, 2, 3, 4, 5, 6, 7, 8, 9])\n",
    "result = arr[2:6]\n",
    "print(\"Extracted elements:\", result)"
   ]
  },
  {
   "cell_type": "code",
   "execution_count": 30,
   "id": "2d5bc762-7070-4272-ae77-7b687c980264",
   "metadata": {},
   "outputs": [
    {
     "name": "stdout",
     "output_type": "stream",
     "text": [
      "Sub-array:\n",
      "[[2 3]\n",
      " [5 6]]\n"
     ]
    }
   ],
   "source": [
    "#30. Slice the 2D NumPy array to extract the sub-array `[[2, 3], [5, 6]]` from the given array.\n",
    "\n",
    "arr_2d = np.array([[1, 2, 3],\n",
    "                   [4, 5, 6],\n",
    "                   [7, 8, 9]])\n",
    "sub_array = arr_2d[0:2, 1:3]\n",
    "print(\"Sub-array:\")\n",
    "print(sub_array)"
   ]
  },
  {
   "cell_type": "code",
   "execution_count": 31,
   "id": "93c1bc82-5248-4c02-8e6e-5bb380fff7c4",
   "metadata": {},
   "outputs": [
    {
     "name": "stdout",
     "output_type": "stream",
     "text": [
      "[2 6 7]\n"
     ]
    }
   ],
   "source": [
    "#31.Write a NumPy function to extract elements in specific order from a given 2D array based on indices provided in another array.\n",
    "\n",
    "def extract_elements(arr, indices):\n",
    "    indices = indices.astype(int)\n",
    "    extracted_elements = arr[indices[:, 0], indices[:, 1]]\n",
    "    return extracted_elements\n",
    "\n",
    "arr = np.array([[1, 2, 3], [4, 5, 6], [7, 8, 9]])\n",
    "indices = np.array([[0, 1], [1, 2], [2, 0]])\n",
    "\n",
    "print(extract_elements(arr, indices))  # Output: [2, 6, 7]"
   ]
  },
  {
   "cell_type": "code",
   "execution_count": 32,
   "id": "36650e5d-223a-44bb-864f-dabddd025fe4",
   "metadata": {},
   "outputs": [
    {
     "name": "stdout",
     "output_type": "stream",
     "text": [
      "[7 9 6 8]\n"
     ]
    }
   ],
   "source": [
    "#32. Create a NumPy function that filters elements greater than a threshold from a given 1D array using boolean indexing.\n",
    "\n",
    "def filter_greater_than_threshold(arr, threshold):\n",
    "    filtered_elements = arr[arr > threshold]\n",
    "    return filtered_elements\n",
    "\n",
    "arr = np.array([1, 3, 5, 7, 9, 2, 4, 6, 8])\n",
    "threshold = 5\n",
    "\n",
    "print(filter_greater_than_threshold(arr, threshold))  # Output: [7 9 6 8]"
   ]
  },
  {
   "cell_type": "code",
   "execution_count": 33,
   "id": "0a7eed1f-c697-4d1d-9e38-c8951eb018d3",
   "metadata": {},
   "outputs": [
    {
     "name": "stdout",
     "output_type": "stream",
     "text": [
      "[ 6 16 20]\n"
     ]
    }
   ],
   "source": [
    "#33. Develop a NumPy function that extracts specific elements from a 3D array using indices provided in three separate arrays for each dimension.\n",
    "\n",
    "def extract_elements_3d(arr, indices_x, indices_y, indices_z):\n",
    "    indices_x = indices_x.astype(int)\n",
    "    indices_y = indices_y.astype(int)\n",
    "    indices_z = indices_z.astype(int)\n",
    "    extracted_elements = arr[indices_x, indices_y, indices_z]\n",
    "    return extracted_elements\n",
    "\n",
    "arr = np.array([\n",
    "    [[ 1,  2,  3], [ 4,  5,  6], [ 7,  8,  9]],\n",
    "    [[10, 11, 12], [13, 14, 15], [16, 17, 18]],\n",
    "    [[19, 20, 21], [22, 23, 24], [25, 26, 27]]\n",
    "])\n",
    "\n",
    "indices_x = np.array([0, 1, 2])\n",
    "indices_y = np.array([1, 2, 0])\n",
    "indices_z = np.array([2, 0, 1])\n",
    "\n",
    "print(extract_elements_3d(arr, indices_x, indices_y, indices_z))  # Output: [ 6 16 25]"
   ]
  },
  {
   "cell_type": "code",
   "execution_count": 34,
   "id": "ea67bd75-f26f-48e9-b9ef-ba5329b4b8b1",
   "metadata": {},
   "outputs": [
    {
     "name": "stdout",
     "output_type": "stream",
     "text": [
      "[4 5 6 7]\n"
     ]
    }
   ],
   "source": [
    "#34. Write a NumPy function that returns elements from an array where both two conditions are satisfied using boolean indexing.\n",
    "\n",
    "def filter_elements_with_conditions(arr, condition1, condition2):\n",
    "    filtered_elements = arr[condition1(arr) & condition2(arr)]\n",
    "    return filtered_elements\n",
    "\n",
    "arr = np.array([1, 2, 3, 4, 5, 6, 7, 8, 9, 10])\n",
    "\n",
    "condition1 = lambda x: x > 3\n",
    "condition2 = lambda x: x < 8\n",
    "\n",
    "print(filter_elements_with_conditions(arr, condition1, condition2))  # Output: [4 5 6 7]"
   ]
  },
  {
   "cell_type": "code",
   "execution_count": 35,
   "id": "57a85da0-68d3-4cde-a0d8-12eda7d60fa9",
   "metadata": {},
   "outputs": [
    {
     "name": "stdout",
     "output_type": "stream",
     "text": [
      "[2 6 7]\n"
     ]
    }
   ],
   "source": [
    "#35. Create a NumPy function that extracts elements from a 2D array using row and column indices provided in separate arrays.\n",
    "\n",
    "def extract_elements_2d(arr, row_indices, col_indices):\n",
    "    row_indices = row_indices.astype(int)\n",
    "    col_indices = col_indices.astype(int)\n",
    "    extracted_elements = arr[row_indices, col_indices]\n",
    "    return extracted_elements\n",
    "\n",
    "arr = np.array([\n",
    "    [ 1,  2,  3],\n",
    "    [ 4,  5,  6],\n",
    "    [ 7,  8,  9]\n",
    "])\n",
    "\n",
    "row_indices = np.array([0, 1, 2])\n",
    "col_indices = np.array([1, 2, 0])\n",
    "\n",
    "print(extract_elements_2d(arr, row_indices, col_indices))  # Output: [2 6 7]"
   ]
  },
  {
   "cell_type": "code",
   "execution_count": 36,
   "id": "5362a109-e80a-4fc7-bff8-68c33ca8f5d2",
   "metadata": {},
   "outputs": [
    {
     "name": "stdout",
     "output_type": "stream",
     "text": [
      "[[ 6  7  8]\n",
      " [ 9 10 11]\n",
      " [12 13 14]]\n"
     ]
    }
   ],
   "source": [
    "#36. Given an array arr of shape (3, 3), add a scalar value of 5 to each element using NumPy broadcasting.\n",
    "\n",
    "def add_scalar_to_array(arr, scalar):\n",
    "    return arr + scalar\n",
    "\n",
    "arr = np.array([\n",
    "    [1, 2, 3],\n",
    "    [4, 5, 6],\n",
    "    [7, 8, 9]\n",
    "])\n",
    "\n",
    "scalar = 5\n",
    "result = add_scalar_to_array(arr, scalar)\n",
    "\n",
    "print(result)"
   ]
  },
  {
   "cell_type": "code",
   "execution_count": 37,
   "id": "03900562-9a58-4593-8618-77e3144d482e",
   "metadata": {},
   "outputs": [
    {
     "name": "stdout",
     "output_type": "stream",
     "text": [
      "[[ 6  7  8]\n",
      " [ 9 10 11]\n",
      " [12 13 14]]\n"
     ]
    }
   ],
   "source": [
    "#37. Consider two arrays arr1 of shape (1, 3) and arr2 of shape (3, 4). Multiply each row of arr2 by the corresponding element in arr1 using NumPy broadcasting.\n",
    "\n",
    "def multiply_rows(arr1, arr2):\n",
    "    return result\n",
    "\n",
    "arr1 = np.array([[1, 2, 3]])  # shape (1, 3)\n",
    "arr2 = np.array([\n",
    "    [1, 2, 3, 4],\n",
    "    [5, 6, 7, 8],\n",
    "    [9, 10, 11, 12]\n",
    "]) \n",
    "\n",
    "result = multiply_rows(arr1, arr2)\n",
    "\n",
    "print(result)"
   ]
  },
  {
   "cell_type": "code",
   "execution_count": 38,
   "id": "12df58d1-6ae4-4301-af1f-bb9ea2d739b0",
   "metadata": {},
   "outputs": [
    {
     "name": "stdout",
     "output_type": "stream",
     "text": [
      "[[ 2  3  4]\n",
      " [ 6  7  8]\n",
      " [10 11 12]\n",
      " [14 15 16]]\n"
     ]
    }
   ],
   "source": [
    "#38. Given a 1D array arr1 of shape (1, 4) and a 2D array arr2 of shape (4, 3), add arr1 to each row of arr2 using NumPy broadcasting.\n",
    "\n",
    "def add_to_each_row(arr1, arr2):\n",
    "    if arr1.shape[1] != arr2.shape[0]:\n",
    "        raise ValueError(\"arr1's length must match arr2's number of rows for broadcasting.\")\n",
    "    arr1_reshaped = arr1.reshape(-1, 1)\n",
    "    result = arr2 + arr1_reshaped\n",
    "    return result\n",
    "\n",
    "arr1 = np.array([[1, 2, 3, 4]]) \n",
    "arr2 = np.array([\n",
    "    [1, 2, 3],\n",
    "    [4, 5, 6],\n",
    "    [7, 8, 9],\n",
    "    [10, 11, 12]\n",
    "]) \n",
    "\n",
    "result = add_to_each_row(arr1, arr2)\n",
    "\n",
    "print(result)"
   ]
  },
  {
   "cell_type": "code",
   "execution_count": 39,
   "id": "d1018fac-6407-4253-85ca-d4468c0aa5f3",
   "metadata": {},
   "outputs": [
    {
     "name": "stdout",
     "output_type": "stream",
     "text": [
      "[[5 6 7]\n",
      " [6 7 8]\n",
      " [7 8 9]]\n"
     ]
    }
   ],
   "source": [
    "#39. Consider two arrays arr1 of shape (3, 1) and arr2 of shape (1, 3). Add these arrays using NumPy broadcasting.\n",
    "\n",
    "def add_arrays(arr1, arr2):\n",
    "    result = arr1 + arr2\n",
    "    return result\n",
    "\n",
    "arr1 = np.array([[1], [2], [3]])  \n",
    "arr2 = np.array([[4, 5, 6]])      \n",
    "\n",
    "result = add_arrays(arr1, arr2)\n",
    "\n",
    "print(result)"
   ]
  },
  {
   "cell_type": "code",
   "execution_count": 40,
   "id": "ee786915-2eb4-43ec-988b-bbe9a9af65da",
   "metadata": {},
   "outputs": [
    {
     "name": "stdout",
     "output_type": "stream",
     "text": [
      "[[[ 2  4  6]\n",
      "  [12 15 18]]\n",
      "\n",
      " [[ 4  8 12]\n",
      "  [20 25 30]]]\n"
     ]
    }
   ],
   "source": [
    "#40. Given arrays arr1 of shape (2, 3) and arr2 of shape (2, 2), perform multiplication using NumPy broadcasting. Handle the shape incompatibility.\n",
    "\n",
    "import numpy as np\n",
    "\n",
    "def multiply_arrays(arr1, arr2):\n",
    "    arr2_reshaped = arr2[:, :, np.newaxis]  \n",
    "    result = arr1 * arr2_reshaped\n",
    "    return result\n",
    "\n",
    "arr1 = np.array([[1, 2, 3], [4, 5, 6]])  \n",
    "arr2 = np.array([[2, 3], [4, 5]])        \n",
    "\n",
    "result = multiply_arrays(arr1, arr2)\n",
    "\n",
    "print(result)"
   ]
  },
  {
   "cell_type": "code",
   "execution_count": 41,
   "id": "da435882-e72c-4080-aa35-aaae4345aa24",
   "metadata": {},
   "outputs": [
    {
     "name": "stdout",
     "output_type": "stream",
     "text": [
      "[2.5 3.5 4.5]\n"
     ]
    }
   ],
   "source": [
    "#41. Calculate column wise mean for the given array:\n",
    "\n",
    "arr = np.array([[1, 2, 3], [4, 5, 6]])\n",
    "\n",
    "column_means = np.mean(arr, axis=0)\n",
    "\n",
    "print(column_means)"
   ]
  },
  {
   "cell_type": "code",
   "execution_count": 42,
   "id": "59adc687-566f-4834-9650-7d5343a9cf3f",
   "metadata": {},
   "outputs": [
    {
     "name": "stdout",
     "output_type": "stream",
     "text": [
      "[3 6]\n"
     ]
    }
   ],
   "source": [
    "#42. Find maximum value in each row of the given array:\n",
    "\n",
    "arr = np.array([[1, 2, 3], [4, 5, 6]])\n",
    "\n",
    "row_max_values = np.max(arr, axis=1)\n",
    "\n",
    "print(row_max_values)"
   ]
  },
  {
   "cell_type": "code",
   "execution_count": 43,
   "id": "e996ed0c-8056-4cfe-90a5-d16bcd8d31cc",
   "metadata": {},
   "outputs": [
    {
     "name": "stdout",
     "output_type": "stream",
     "text": [
      "[1 1 1]\n"
     ]
    }
   ],
   "source": [
    "#43. For the given array, find indices of maximum value in each column.\n",
    "\n",
    "arr = np.array([[1, 2, 3], [4, 5, 6]])\n",
    "\n",
    "column_max_indices = np.argmax(arr, axis=0)\n",
    "\n",
    "print(column_max_indices)"
   ]
  },
  {
   "cell_type": "code",
   "execution_count": 44,
   "id": "291d7c33-5e0e-41c0-975c-67eecfd4a6f4",
   "metadata": {},
   "outputs": [
    {
     "name": "stdout",
     "output_type": "stream",
     "text": [
      "[[ 3  5  0]\n",
      " [ 9 11  0]]\n"
     ]
    }
   ],
   "source": [
    "#44. For the given array, apply custom function to calculate moving sum along rows.\n",
    "\n",
    "def moving_sum(arr, window_size):\n",
    "    result = np.zeros_like(arr)\n",
    "    for i in range(arr.shape[0]):\n",
    "        for j in range(arr.shape[1] - window_size + 1):\n",
    "            result[i, j] = np.sum(arr[i, j:j+window_size])\n",
    "    return result\n",
    "\n",
    "arr = np.array([[1, 2, 3], [4, 5, 6]])\n",
    "window_size = 2\n",
    "\n",
    "moving_sum_result = moving_sum(arr, window_size)\n",
    "\n",
    "print(moving_sum_result)"
   ]
  },
  {
   "cell_type": "code",
   "execution_count": 45,
   "id": "ae29b14f-79cd-4617-80b1-10fdd4284757",
   "metadata": {},
   "outputs": [
    {
     "name": "stdout",
     "output_type": "stream",
     "text": [
      "[False False False]\n"
     ]
    }
   ],
   "source": [
    "#45. In the given array, check if all elements in each column are even.\n",
    "\n",
    "arr = np.array([[2, 4, 6], [3, 5, 7]])\n",
    "\n",
    "all_even_columns = np.all(arr % 2 == 0, axis=0)\n",
    "\n",
    "print(all_even_columns)"
   ]
  },
  {
   "cell_type": "code",
   "execution_count": 46,
   "id": "63f2c125-1064-4d62-b886-aadd829f6e9b",
   "metadata": {},
   "outputs": [
    {
     "name": "stdout",
     "output_type": "stream",
     "text": [
      "[[1 2 3]\n",
      " [4 5 6]]\n"
     ]
    }
   ],
   "source": [
    "#46. Given a NumPy array arr, reshape it into a matrix of dimensions `m` rows and `n` columns. Return the reshaped matrix.\n",
    "\n",
    "def reshape_array(original_array, m, n):\n",
    "    if original_array.size != m * n:\n",
    "        raise ValueError(\"The total number of elements must be the same after reshaping.\")\n",
    "    reshaped_matrix = original_array.reshape((m, n))\n",
    "    return reshaped_matrix\n",
    "\n",
    "original_array = np.array([1, 2, 3, 4, 5, 6])\n",
    "m, n = 2, 3\n",
    "\n",
    "reshaped_matrix = reshape_array(original_array, m, n)\n",
    "\n",
    "print(reshaped_matrix)"
   ]
  },
  {
   "cell_type": "code",
   "execution_count": 47,
   "id": "25cadafe-e72f-4cd7-a870-ec98b21e2423",
   "metadata": {},
   "outputs": [
    {
     "name": "stdout",
     "output_type": "stream",
     "text": [
      "[1 2 3 4 5 6]\n"
     ]
    }
   ],
   "source": [
    "#47. Create a function that takes a matrix as input and returns the flattened array.\n",
    "\n",
    "def flatten_matrix(input_matrix):\n",
    "    return input_matrix.flatten()\n",
    "\n",
    "input_matrix = np.array([[1, 2, 3], [4, 5, 6]])\n",
    "\n",
    "flattened_array = flatten_matrix(input_matrix)\n",
    "\n",
    "print(flattened_array)"
   ]
  },
  {
   "cell_type": "code",
   "execution_count": 48,
   "id": "0b228e09-226f-453b-97d0-ae795f66111f",
   "metadata": {},
   "outputs": [
    {
     "name": "stdout",
     "output_type": "stream",
     "text": [
      "Concatenated along axis 0:\n",
      " [[1 2]\n",
      " [3 4]\n",
      " [5 6]\n",
      " [7 8]]\n",
      "Concatenated along axis 1:\n",
      " [[1 2 5 6]\n",
      " [3 4 7 8]]\n"
     ]
    }
   ],
   "source": [
    "#48. Write a function that concatenates two given arrays along a specified axis.\n",
    "\n",
    "def concatenate_arrays(array1, array2, axis=0):\n",
    "    return np.concatenate((array1, array2), axis=axis)\n",
    "\n",
    "array1 = np.array([[1, 2], [3, 4]])\n",
    "array2 = np.array([[5, 6], [7, 8]])\n",
    "\n",
    "concatenated_array_axis0 = concatenate_arrays(array1, array2, axis=0)\n",
    "print(\"Concatenated along axis 0:\\n\", concatenated_array_axis0)\n",
    "\n",
    "concatenated_array_axis1 = concatenate_arrays(array1, array2, axis=1)\n",
    "print(\"Concatenated along axis 1:\\n\", concatenated_array_axis1)"
   ]
  },
  {
   "cell_type": "code",
   "execution_count": 49,
   "id": "360034f3-ad85-4e85-963d-1d83f57074b3",
   "metadata": {},
   "outputs": [
    {
     "name": "stdout",
     "output_type": "stream",
     "text": [
      "Split into 3 equal-sized sub-arrays along axis 0:\n",
      "[[1 2 3]]\n",
      "[[4 5 6]]\n",
      "[[7 8 9]]\n",
      "\n",
      "Split along axis 1 at indices 1 and 2:\n",
      "[[1]\n",
      " [4]\n",
      " [7]]\n",
      "[[2]\n",
      " [5]\n",
      " [8]]\n",
      "[[3]\n",
      " [6]\n",
      " [9]]\n"
     ]
    }
   ],
   "source": [
    "#49. Create a function that splits an array into multiple sub-arrays along a specified axis.\n",
    "\n",
    "def split_array(original_array, indices_or_sections, axis=0):\n",
    "    return np.split(original_array, indices_or_sections, axis=axis)\n",
    "\n",
    "original_array = np.array([[1, 2, 3], [4, 5, 6], [7, 8, 9]])\n",
    "\n",
    "split_arrays_axis0 = split_array(original_array, 3, axis=0)\n",
    "print(\"Split into 3 equal-sized sub-arrays along axis 0:\")\n",
    "for arr in split_arrays_axis0:\n",
    "    print(arr)\n",
    "\n",
    "split_arrays_axis1 = split_array(original_array, [1, 2], axis=1)\n",
    "print(\"\\nSplit along axis 1 at indices 1 and 2:\")\n",
    "for arr in split_arrays_axis1:\n",
    "    print(arr)"
   ]
  },
  {
   "cell_type": "code",
   "execution_count": 50,
   "id": "3d25ef22-9883-485d-bb9e-ed2fee8a20df",
   "metadata": {},
   "outputs": [
    {
     "name": "stdout",
     "output_type": "stream",
     "text": [
      "[ 1 10  4 11  5]\n"
     ]
    }
   ],
   "source": [
    "#50. Write a function that inserts and then deletes elements from a given array at specified indices.\n",
    "\n",
    "def insert_and_delete_elements(original_array, indices_to_insert, values_to_insert, indices_to_delete):\n",
    "    modified_array = np.insert(original_array, indices_to_insert, values_to_insert)\n",
    "    modified_array = np.delete(modified_array, indices_to_delete)\n",
    "    return modified_array\n",
    "\n",
    "original_array = np.array([1, 2, 3, 4, 5])\n",
    "indices_to_insert = [2, 4]\n",
    "values_to_insert = [10, 11]\n",
    "indices_to_delete = [1, 3]\n",
    "\n",
    "modified_array = insert_and_delete_elements(original_array, indices_to_insert, values_to_insert, indices_to_delete)\n",
    "\n",
    "print(modified_array)"
   ]
  },
  {
   "cell_type": "code",
   "execution_count": 51,
   "id": "7df69972-e313-4322-b914-48692d6ecc91",
   "metadata": {},
   "outputs": [
    {
     "name": "stdout",
     "output_type": "stream",
     "text": [
      "arr1:\n",
      " [[66 40 88 47 89]\n",
      " [82 38 26 78 73]\n",
      " [10 21 81 70 80]\n",
      " [48 65 83 89 50]\n",
      " [30 20 20 15 40]]\n",
      "\n",
      "arr2:\n",
      " [[ 1  2  3  4  5]\n",
      " [ 6  7  8  9 10]\n",
      " [11 12 13 14 15]\n",
      " [16 17 18 19 20]\n",
      " [21 22 23 24 25]]\n",
      "\n",
      "Result of element-wise addition:\n",
      " [[ 67  42  91  51  94]\n",
      " [ 88  45  34  87  83]\n",
      " [ 21  33  94  84  95]\n",
      " [ 64  82 101 108  70]\n",
      " [ 51  42  43  39  65]]\n"
     ]
    }
   ],
   "source": [
    "#51. Create a NumPy array `arr1` with random integers and another array `arr2` with integers from 1 to 10. Perform element-wise addition between `arr1` and `arr2`.\n",
    "\n",
    "arr1 = np.random.randint(1, 100, size=(5, 5))\n",
    "arr2 = np.arange(1, 26).reshape(5, 5)\n",
    "result = arr1 + arr2\n",
    "\n",
    "print(\"arr1:\\n\", arr1)\n",
    "print(\"\\narr2:\\n\", arr2)\n",
    "print(\"\\nResult of element-wise addition:\\n\", result)"
   ]
  },
  {
   "cell_type": "code",
   "execution_count": 52,
   "id": "0830999b-103b-4330-aa1a-f5bf019b8747",
   "metadata": {},
   "outputs": [
    {
     "name": "stdout",
     "output_type": "stream",
     "text": [
      "arr1: [10  9  8  7  6  5  4  3  2  1]\n",
      "arr2: [ 1  2  3  4  5  6  7  8  9 10]\n",
      "Result of element-wise subtraction: [ 9  7  5  3  1 -1 -3 -5 -7 -9]\n"
     ]
    }
   ],
   "source": [
    "#52. Generate a NumPy array `arr1` with sequential integers from 10 to 1 and another array `arr2` with integers from 1 to 10. Subtract `arr2` from `arr1` element-wise.\n",
    "\n",
    "arr1 = np.arange(10, 0, -1)\n",
    "arr2 = np.arange(1, 11)\n",
    "result = arr1 - arr2\n",
    "\n",
    "print(\"arr1:\", arr1)\n",
    "print(\"arr2:\", arr2)\n",
    "print(\"Result of element-wise subtraction:\", result)"
   ]
  },
  {
   "cell_type": "code",
   "execution_count": 53,
   "id": "01b391a7-d42b-47fa-af8e-e3352a4d36ac",
   "metadata": {},
   "outputs": [
    {
     "name": "stdout",
     "output_type": "stream",
     "text": [
      "arr1:\n",
      " [[33 66 10 58 33]\n",
      " [32 75 24 36 76]\n",
      " [56 29 35  1  1]\n",
      " [37 54  6 39 18]\n",
      " [80  5 43 59 32]]\n",
      "\n",
      "arr2: [1 2 3 4 5]\n",
      "\n",
      "Result of element-wise multiplication:\n",
      " [[ 33 132  30 232 165]\n",
      " [ 32 150  72 144 380]\n",
      " [ 56  58 105   4   5]\n",
      " [ 37 108  18 156  90]\n",
      " [ 80  10 129 236 160]]\n"
     ]
    }
   ],
   "source": [
    "#53. Create a NumPy array `arr1` with random integers and another array `arr2` with integers from 1 to 5. Perform element-wise multiplication between `arr1` and `arr2`.\n",
    "\n",
    "arr1 = np.random.randint(1, 100, size=(5, 5)) \n",
    "arr2 = np.arange(1, 6)\n",
    "result = arr1 * arr2\n",
    "\n",
    "print(\"arr1:\\n\", arr1)\n",
    "print(\"\\narr2:\", arr2)\n",
    "print(\"\\nResult of element-wise multiplication:\\n\", result)"
   ]
  },
  {
   "cell_type": "code",
   "execution_count": 54,
   "id": "24cb27bf-a565-4e5d-aeb6-14ba0d142ddf",
   "metadata": {},
   "outputs": [
    {
     "name": "stdout",
     "output_type": "stream",
     "text": [
      "arr1: [ 2  4  6  8 10]\n",
      "arr2: [1 2 3 4 5]\n",
      "Result of element-wise division: [2. 2. 2. 2. 2.]\n"
     ]
    }
   ],
   "source": [
    "#54. Generate a NumPy array `arr1` with even integers from 2 to 10 and another array `arr2` with integers from 1 to 5. Perform element-wise division of `arr1` by `arr2`.\n",
    "\n",
    "arr1 = np.arange(2, 11, 2)\n",
    "arr2 = np.arange(1, 6)\n",
    "result = arr1 / arr2\n",
    "\n",
    "print(\"arr1:\", arr1)\n",
    "print(\"arr2:\", arr2)\n",
    "print(\"Result of element-wise division:\", result)"
   ]
  },
  {
   "cell_type": "code",
   "execution_count": 55,
   "id": "0c7f768f-7dc7-4148-bee4-fbc5db94c85c",
   "metadata": {},
   "outputs": [
    {
     "name": "stdout",
     "output_type": "stream",
     "text": [
      "arr1: [1 2 3 4 5]\n",
      "arr2 (reversed): [5 4 3 2 1]\n",
      "Result of exponentiation: [ 1 16 27 16  5]\n"
     ]
    }
   ],
   "source": [
    "#55. Create a NumPy array `arr1` with integers from 1 to 5 and another array `arr2` with the same numbers reversed. Calculate the exponentiation of `arr1` raised to the power of `arr2` element-wise.\n",
    "\n",
    "arr1 = np.arange(1, 6)\n",
    "arr2 = arr1[::-1]\n",
    "result = np.power(arr1, arr2)\n",
    "\n",
    "print(\"arr1:\", arr1)\n",
    "print(\"arr2 (reversed):\", arr2)\n",
    "print(\"Result of exponentiation:\", result)"
   ]
  },
  {
   "cell_type": "code",
   "execution_count": 56,
   "id": "3a70c8ed-4fd1-413f-8e77-7bf039735ca9",
   "metadata": {},
   "outputs": [
    {
     "name": "stdout",
     "output_type": "stream",
     "text": [
      "Occurrences of 'hello' in the array: 3\n"
     ]
    }
   ],
   "source": [
    "#56. Write a function that counts the occurrences of a specific substring within a NumPy array of strings.\n",
    "\n",
    "def count_substring_occurrences(arr, substring):\n",
    "    count = 0\n",
    "    for string in arr:\n",
    "        count += string.count(substring)\n",
    "    return count\n",
    "\n",
    "arr = np.array(['hello', 'world', 'hello', 'numpy', 'hello'])\n",
    "substring = 'hello'\n",
    "\n",
    "occurrences = count_substring_occurrences(arr, substring)\n",
    "print(\"Occurrences of '{}' in the array: {}\".format(substring, occurrences))"
   ]
  },
  {
   "cell_type": "code",
   "execution_count": 57,
   "id": "120e8d01-9098-4940-b55e-5b515da580cc",
   "metadata": {},
   "outputs": [
    {
     "name": "stdout",
     "output_type": "stream",
     "text": [
      "Uppercase characters extracted from the array: HWOAIGPT\n"
     ]
    }
   ],
   "source": [
    "#57. Write a function that extracts uppercase characters from a NumPy array of strings.\n",
    "\n",
    "def extract_uppercase_characters(arr):\n",
    "    uppercase_chars = ''\n",
    "    for string in arr:\n",
    "        for char in string:\n",
    "            if char.isupper():\n",
    "                uppercase_chars += char\n",
    "    return uppercase_chars\n",
    "\n",
    "arr = np.array(['Hello', 'World', 'OpenAI', 'GPT'])\n",
    "\n",
    "uppercase_chars = extract_uppercase_characters(arr)\n",
    "print(\"Uppercase characters extracted from the array:\", uppercase_chars)"
   ]
  },
  {
   "cell_type": "code",
   "execution_count": 58,
   "id": "2a578ca2-2692-4744-9616-c5fb2dc91e40",
   "metadata": {},
   "outputs": [
    {
     "name": "stdout",
     "output_type": "stream",
     "text": [
      "Modified array after replacing 'apple' with 'orange':\n",
      "['orange' 'banana' 'grape' 'pineorang']\n"
     ]
    }
   ],
   "source": [
    "#58. Write a function that replaces occurrences of a substring in a NumPy array of strings with a new string.\n",
    "\n",
    "def replace_substring(arr, old_substring, new_substring):\n",
    "    modified_arr = np.empty_like(arr)\n",
    "    for i, string in enumerate(arr):\n",
    "        modified_arr[i] = string.replace(old_substring, new_substring)\n",
    "    return modified_arr\n",
    "\n",
    "arr = np.array(['apple', 'banana', 'grape', 'pineapple'])\n",
    "old_substring = 'apple'\n",
    "new_substring = 'orange'\n",
    "\n",
    "modified_arr = replace_substring(arr, old_substring, new_substring)\n",
    "print(\"Modified array after replacing '{}' with '{}':\".format(old_substring, new_substring))\n",
    "print(modified_arr)"
   ]
  },
  {
   "cell_type": "code",
   "execution_count": 59,
   "id": "c700c7e2-2ca6-4b53-bee9-e8a4f6aed27b",
   "metadata": {},
   "outputs": [
    {
     "name": "stdout",
     "output_type": "stream",
     "text": [
      "Concatenated array:\n",
      "['HelloOpen' 'WorldAI']\n"
     ]
    }
   ],
   "source": [
    "#59. Write a function that concatenates strings in a NumPy array element-wise.\n",
    "\n",
    "def concatenate_strings(arr1, arr2):\n",
    "    return np.core.defchararray.add(arr1, arr2)\n",
    "\n",
    "arr1 = np.array(['Hello', 'World'])\n",
    "arr2 = np.array(['Open', 'AI'])\n",
    "\n",
    "concatenated_arr = concatenate_strings(arr1, arr2)\n",
    "print(\"Concatenated array:\")\n",
    "print(concatenated_arr)"
   ]
  },
  {
   "cell_type": "code",
   "execution_count": 60,
   "id": "b6de1f1b-911a-4a0f-ac09-0c1395389cd6",
   "metadata": {},
   "outputs": [
    {
     "name": "stdout",
     "output_type": "stream",
     "text": [
      "Length of the longest string: 9\n"
     ]
    }
   ],
   "source": [
    "#60. Write a function that finds the length of the longest string in a NumPy array.\n",
    "\n",
    "def longest_string_length(arr):\n",
    "    vectorized_len = np.vectorize(len)\n",
    "    string_lengths = vectorized_len(arr)\n",
    "    longest_length = np.max(string_lengths)\n",
    "\n",
    "    return longest_length\n",
    "\n",
    "arr = np.array(['apple', 'banana', 'grape', 'pineapple'])\n",
    "\n",
    "longest_length = longest_string_length(arr)\n",
    "print(\"Length of the longest string:\", longest_length)"
   ]
  },
  {
   "cell_type": "code",
   "execution_count": 61,
   "id": "3688d4f7-93f2-4f62-9c1e-d50b693f8036",
   "metadata": {},
   "outputs": [
    {
     "name": "stdout",
     "output_type": "stream",
     "text": [
      "Dataset: [ 889  258  322 1000  938   58  292  871  120  780  431   83   92  897\n",
      "  399  612  566  909  634  939   85  204  325  775  965   48  640  132\n",
      "  973  869  181  847  144  661  228  955  792  720  910  374  854  561\n",
      "  306  582  170  676  449   96  198  607  257  882  691  293  931  817\n",
      "  862  388  611  555  974  369 1000  918  202  384  513  907  371  556\n",
      "  955  384   24  700  131  378   99  575  932  735  124  964  595  943\n",
      "  740  149  210  563  412  783   42   59  706   37  779   87   44  873\n",
      "   12  771]\n",
      "Mean: 527.04\n",
      "Median: 564.5\n",
      "Variance: 101909.39839999998\n",
      "Standard Deviation: 319.23251463470945\n"
     ]
    }
   ],
   "source": [
    "#61. Create a dataset of 100 random integers between 1 and 1000. Compute the mean, median, variance, and standard deviation of the dataset using NumPy's functions.\n",
    "\n",
    "dataset = np.random.randint(1, 1001, size=100)\n",
    "mean = np.mean(dataset)\n",
    "median = np.median(dataset)\n",
    "variance = np.var(dataset)\n",
    "std_dev = np.std(dataset)\n",
    "\n",
    "print(\"Dataset:\", dataset)\n",
    "print(\"Mean:\", mean)\n",
    "print(\"Median:\", median)\n",
    "print(\"Variance:\", variance)\n",
    "print(\"Standard Deviation:\", std_dev)"
   ]
  },
  {
   "cell_type": "code",
   "execution_count": 62,
   "id": "71812e10-5932-49e7-bf90-961367000d92",
   "metadata": {},
   "outputs": [
    {
     "name": "stdout",
     "output_type": "stream",
     "text": [
      "Dataset: [52 81 33 55  1 39 20 47 43 57 61 78 31 25  3  4 95 99 14 41 73 20 96 73\n",
      " 27 67 53 68 62 15 97  5 68 12 87 78 76 57 17 25 30 22 26 81 61 62 84 34\n",
      " 33 71]\n",
      "25th Percentile: 25.25\n",
      "75th Percentile: 72.5\n"
     ]
    }
   ],
   "source": [
    "#62. Generate an array of 50 random numbers between 1 and 100. Find the 25th and 75th percentiles of the dataset.\n",
    "\n",
    "dataset = np.random.randint(1, 101, size=50)\n",
    "percentile_25th = np.percentile(dataset, 25)\n",
    "percentile_75th = np.percentile(dataset, 75)\n",
    "\n",
    "print(\"Dataset:\", dataset)\n",
    "print(\"25th Percentile:\", percentile_25th)\n",
    "print(\"75th Percentile:\", percentile_75th)"
   ]
  },
  {
   "cell_type": "code",
   "execution_count": 63,
   "id": "5d84a25e-8dbd-4ac6-992d-89984b0d18fa",
   "metadata": {},
   "outputs": [
    {
     "name": "stdout",
     "output_type": "stream",
     "text": [
      "Array 1: [1 2 3 4 5]\n",
      "Array 2: [ 2  4  6  8 10]\n",
      "Correlation Coefficient: 0.9999999999999999\n"
     ]
    }
   ],
   "source": [
    "#63. Create two arrays representing two sets of variables. Compute the correlation coefficient between these arrays using NumPy's `corrcoef` function.\n",
    "\n",
    "array1 = np.array([1, 2, 3, 4, 5])\n",
    "array2 = np.array([2, 4, 6, 8, 10])\n",
    "correlation_coefficient = np.corrcoef(array1, array2)[0, 1]\n",
    "\n",
    "print(\"Array 1:\", array1)\n",
    "print(\"Array 2:\", array2)\n",
    "print(\"Correlation Coefficient:\", correlation_coefficient)"
   ]
  },
  {
   "cell_type": "code",
   "execution_count": 64,
   "id": "ac31e6da-2558-406c-aa4b-3121180183e3",
   "metadata": {},
   "outputs": [
    {
     "name": "stdout",
     "output_type": "stream",
     "text": [
      "Matrix 1:\n",
      "[[1 2 3]\n",
      " [4 5 6]]\n",
      "\n",
      "Matrix 2:\n",
      "[[ 7  8]\n",
      " [ 9 10]\n",
      " [11 12]]\n",
      "\n",
      "Result of matrix multiplication:\n",
      "[[ 58  64]\n",
      " [139 154]]\n"
     ]
    }
   ],
   "source": [
    "#64. Create two matrices and perform matrix multiplication using NumPy's `dot` function.\n",
    "\n",
    "matrix1 = np.array([[1, 2, 3],\n",
    "                    [4, 5, 6]])\n",
    "\n",
    "matrix2 = np.array([[7, 8],\n",
    "                    [9, 10],\n",
    "                    [11, 12]])\n",
    "\n",
    "result = np.dot(matrix1, matrix2)\n",
    "\n",
    "print(\"Matrix 1:\")\n",
    "print(matrix1)\n",
    "print(\"\\nMatrix 2:\")\n",
    "print(matrix2)\n",
    "print(\"\\nResult of matrix multiplication:\")\n",
    "print(result)"
   ]
  },
  {
   "cell_type": "code",
   "execution_count": 65,
   "id": "c7f5af5e-6b13-41cb-985b-b4901e8d8d81",
   "metadata": {},
   "outputs": [
    {
     "name": "stdout",
     "output_type": "stream",
     "text": [
      "Dataset: [479 297 535 849 706 162 601  51 284 562 448 217 789 176 121 359 139 745\n",
      " 896 822 226 391  34  77 988 781 244 726 301 736 711 719 737 565  42  21\n",
      " 626 222 148 704 431 647 678 633 498 780 549 989 227 673]\n",
      "10th Percentile: 116.60000000000002\n",
      "50th Percentile (Median): 542.0\n",
      "90th Percentile: 792.3000000000001\n",
      "1st Quartile: 226.25\n",
      "3rd Quartile: 717.0\n"
     ]
    }
   ],
   "source": [
    "#65. Create an array of 50 integers between 10 and 1000. Calculate the 10th, 50th (median), and 90th percentiles along with the first and third quartiles.\n",
    "\n",
    "dataset = np.random.randint(10, 1001, size=50)\n",
    "\n",
    "percentile_10th = np.percentile(dataset, 10)\n",
    "percentile_50th = np.percentile(dataset, 50)\n",
    "percentile_90th = np.percentile(dataset, 90)\n",
    "quartile_1st = np.percentile(dataset, 25)\n",
    "quartile_3rd = np.percentile(dataset, 75)\n",
    "\n",
    "print(\"Dataset:\", dataset)\n",
    "print(\"10th Percentile:\", percentile_10th)\n",
    "print(\"50th Percentile (Median):\", percentile_50th)\n",
    "print(\"90th Percentile:\", percentile_90th)\n",
    "print(\"1st Quartile:\", quartile_1st)\n",
    "print(\"3rd Quartile:\", quartile_3rd)"
   ]
  },
  {
   "cell_type": "code",
   "execution_count": 66,
   "id": "41cbd265-19a9-4ef5-b397-8948018fe805",
   "metadata": {},
   "outputs": [
    {
     "name": "stdout",
     "output_type": "stream",
     "text": [
      "Array: [ 1  3  5  7  9 11]\n",
      "Index of 7 using np.where(): 3\n",
      "Index of 7 using direct indexing: 3\n"
     ]
    }
   ],
   "source": [
    "#66. Create a NumPy array of integers and find the index of a specific element.\n",
    "\n",
    "array = np.array([1, 3, 5, 7, 9, 11])\n",
    "\n",
    "element_to_find = 7\n",
    "\n",
    "index_using_where = np.where(array == element_to_find)[0][0]\n",
    "\n",
    "index_direct_indexing = np.argmax(array == element_to_find)\n",
    "\n",
    "print(\"Array:\", array)\n",
    "print(\"Index of\", element_to_find, \"using np.where():\", index_using_where)\n",
    "print(\"Index of\", element_to_find, \"using direct indexing:\", index_direct_indexing)"
   ]
  },
  {
   "cell_type": "code",
   "execution_count": 67,
   "id": "8cf110d2-782c-46a0-be4f-74bd8dec7f1f",
   "metadata": {},
   "outputs": [
    {
     "name": "stdout",
     "output_type": "stream",
     "text": [
      "Random Array: [54 52 47 21 54 30 68 36 40 10]\n",
      "Sorted Array in Ascending Order: [10 21 30 36 40 47 52 54 54 68]\n"
     ]
    }
   ],
   "source": [
    "#67. Generate a random NumPy array and sort it in ascending order.\n",
    "\n",
    "random_array = np.random.randint(1, 100, size=10)\n",
    "\n",
    "sorted_array = np.sort(random_array)\n",
    "\n",
    "print(\"Random Array:\", random_array)\n",
    "print(\"Sorted Array in Ascending Order:\", sorted_array)"
   ]
  },
  {
   "cell_type": "code",
   "execution_count": 68,
   "id": "3bc80450-e55f-4ea5-b356-91c284d5114a",
   "metadata": {},
   "outputs": [
    {
     "name": "stdout",
     "output_type": "stream",
     "text": [
      "Original Array: [12 25  6 42  8 30]\n",
      "Filtered Elements (>20): [25 42 30]\n"
     ]
    }
   ],
   "source": [
    "#68. Filter elements >20  in the given NumPy array.\n",
    "\n",
    "arr = np.array([12, 25, 6, 42, 8, 30])\n",
    "\n",
    "filtered_array = arr[arr > 20]\n",
    "\n",
    "print(\"Original Array:\", arr)\n",
    "print(\"Filtered Elements (>20):\", filtered_array)"
   ]
  },
  {
   "cell_type": "code",
   "execution_count": 69,
   "id": "21914a7c-0d77-4a95-908a-7456920e5195",
   "metadata": {},
   "outputs": [
    {
     "name": "stdout",
     "output_type": "stream",
     "text": [
      "Original Array: [ 1  5  8 12 15]\n",
      "Filtered Elements (divisible by 3): [12 15]\n"
     ]
    }
   ],
   "source": [
    "#69. Filter elements which are divisible by 3 from a given NumPy array.\n",
    "\n",
    "arr = np.array([1, 5, 8, 12, 15])\n",
    "\n",
    "filtered_array = arr[arr % 3 == 0]\n",
    "\n",
    "print(\"Original Array:\", arr)\n",
    "print(\"Filtered Elements (divisible by 3):\", filtered_array)"
   ]
  },
  {
   "cell_type": "code",
   "execution_count": 70,
   "id": "77ceaf8f-c20d-44cc-ad92-f3a3c9183147",
   "metadata": {},
   "outputs": [
    {
     "name": "stdout",
     "output_type": "stream",
     "text": [
      "Original Array: [10 20 30 40 50]\n",
      "Filtered Elements (≥ 20 and ≤ 40): [20 30 40]\n"
     ]
    }
   ],
   "source": [
    "#70. Filter elements which are ≥ 20 and ≤ 40 from a given NumPy array.\n",
    "\n",
    "arr = np.array([10, 20, 30, 40, 50])\n",
    "\n",
    "filtered_array = arr[(arr >= 20) & (arr <= 40)]\n",
    "\n",
    "print(\"Original Array:\", arr)\n",
    "print(\"Filtered Elements (≥ 20 and ≤ 40):\", filtered_array)"
   ]
  },
  {
   "cell_type": "code",
   "execution_count": 71,
   "id": "4931de7c-250a-4c1e-8933-eebbf28ebdd6",
   "metadata": {},
   "outputs": [
    {
     "name": "stdout",
     "output_type": "stream",
     "text": [
      "Byte Order: =\n"
     ]
    }
   ],
   "source": [
    "#71. For the given NumPy array, check its byte order using the `dtype` attribute byteorder.\n",
    "\n",
    "arr = np.array([1, 2, 3])\n",
    "\n",
    "byte_order = arr.dtype.byteorder\n",
    "\n",
    "print(\"Byte Order:\", byte_order)"
   ]
  },
  {
   "cell_type": "code",
   "execution_count": 72,
   "id": "2bb8f849-968c-46db-b242-6cce4db99958",
   "metadata": {},
   "outputs": [
    {
     "name": "stdout",
     "output_type": "stream",
     "text": [
      "Array after byte swapping: [16777216 33554432 50331648]\n"
     ]
    }
   ],
   "source": [
    "#72. For the given NumPy array, perform byte swapping in place using `byteswap()`.\n",
    "\n",
    "arr = np.array([1, 2, 3], dtype=np.int32)\n",
    "\n",
    "arr.byteswap(True)\n",
    "\n",
    "print(\"Array after byte swapping:\", arr)"
   ]
  },
  {
   "cell_type": "code",
   "execution_count": 73,
   "id": "97980ab3-07d9-4137-b672-ba52e65e50ed",
   "metadata": {},
   "outputs": [
    {
     "name": "stdout",
     "output_type": "stream",
     "text": [
      "Original Array: [1 2 3]\n",
      "Array with Swapped Byte Order: [16777216 33554432 50331648]\n"
     ]
    }
   ],
   "source": [
    "#73. For the given NumPy array, swap its byte order without modifying the original array using `newbyteorder()`.\n",
    "\n",
    "arr = np.array([1, 2, 3], dtype=np.int32)\n",
    "\n",
    "arr_swapped = arr.newbyteorder()\n",
    "\n",
    "print(\"Original Array:\", arr)\n",
    "print(\"Array with Swapped Byte Order:\", arr_swapped)"
   ]
  },
  {
   "cell_type": "code",
   "execution_count": 74,
   "id": "799877e1-8cd4-4e9e-b7d3-eb10c8617c52",
   "metadata": {},
   "outputs": [
    {
     "name": "stdout",
     "output_type": "stream",
     "text": [
      "Original array: [1 2 3]\n",
      "Array with swapped byte order: [1 2 3]\n"
     ]
    }
   ],
   "source": [
    "#74. For the given NumPy array and swap its byte order conditionally based on system endianness using `newbyteorder()`.\n",
    "\n",
    "arr = np.array([1, 2, 3], dtype=np.int32)\n",
    "\n",
    "if arr.dtype.byteorder == '=':  \n",
    "    if np.little_endian:\n",
    "        swapped_arr = arr.byteswap().newbyteorder()\n",
    "    else:\n",
    "        swapped_arr = arr.byteswap().newbyteorder()\n",
    "else:\n",
    "    swapped_arr = arr.newbyteorder('=')\n",
    "\n",
    "print(\"Original array:\", arr)\n",
    "print(\"Array with swapped byte order:\", swapped_arr)"
   ]
  },
  {
   "cell_type": "code",
   "execution_count": 75,
   "id": "6b379bd4-aeb2-4bbb-be98-5f7cd56f90d8",
   "metadata": {},
   "outputs": [
    {
     "name": "stdout",
     "output_type": "stream",
     "text": [
      "Original array: [1 2 3]\n",
      "Array with swapped byte order: [1 2 3]\n"
     ]
    }
   ],
   "source": [
    "#75. For the given NumPy array, check if byte swapping is necessary for the current system using `dtype` attribute `byteorder`.\n",
    "\n",
    "arr = np.array([1, 2, 3], dtype=np.int32)\n",
    "\n",
    "byteorder = arr.dtype.byteorder\n",
    "\n",
    "system_is_little_endian = np.little_endian\n",
    "\n",
    "if (byteorder == '<' and not system_is_little_endian) or (byteorder == '>' and system_is_little_endian):\n",
    "    swapped_arr = arr.byteswap().newbyteorder()\n",
    "else:\n",
    "    swapped_arr = arr\n",
    "\n",
    "print(\"Original array:\", arr)\n",
    "print(\"Array with swapped byte order:\", swapped_arr)"
   ]
  },
  {
   "cell_type": "code",
   "execution_count": 76,
   "id": "12b2a381-08e9-40cb-9741-a3363ae6a156",
   "metadata": {},
   "outputs": [
    {
     "name": "stdout",
     "output_type": "stream",
     "text": [
      "Original array (arr1): [ 1  2  3  4  5  6  7  8  9 10]\n",
      "Modified copy (copy_arr): [99  2  3  4  5  6  7  8  9 10]\n"
     ]
    }
   ],
   "source": [
    "#76. Create a NumPy array `arr1` with values from 1 to 10. Create a copy of `arr1` named `copy_arr` and modify an element in `copy_arr`. Check if modifying `copy_arr` affects `arr1`.\n",
    "\n",
    "arr1 = np.arange(1, 11)\n",
    "\n",
    "copy_arr = arr1.copy()\n",
    "\n",
    "copy_arr[0] = 99\n",
    "\n",
    "print(\"Original array (arr1):\", arr1)\n",
    "print(\"Modified copy (copy_arr):\", copy_arr)\n"
   ]
  },
  {
   "cell_type": "code",
   "execution_count": 77,
   "id": "f5cb2726-1b83-4c28-a195-5c8260ee8ef2",
   "metadata": {},
   "outputs": [
    {
     "name": "stdout",
     "output_type": "stream",
     "text": [
      "Original matrix:\n",
      "[[ 74  42  24]\n",
      " [  4 999  91]\n",
      " [ 51   4  32]]\n",
      "\n",
      "View slice:\n",
      "[[999  91]\n",
      " [  4  32]]\n"
     ]
    }
   ],
   "source": [
    "#77. Create a 2D NumPy array `matrix` of shape (3, 3) with random integers. Extract a slice `view_slice` from the matrix. Modify an element in `view_slice` and observe if it changes the original `matrix`.\n",
    "\n",
    "matrix = np.random.randint(1, 100, size=(3, 3))\n",
    "\n",
    "view_slice = matrix[1:, 1:]\n",
    "\n",
    "view_slice[0, 0] = 999\n",
    "\n",
    "print(\"Original matrix:\")\n",
    "print(matrix)\n",
    "print(\"\\nView slice:\")\n",
    "print(view_slice)"
   ]
  },
  {
   "cell_type": "code",
   "execution_count": 78,
   "id": "b72db7f2-2398-4b4e-8692-5893ee34ead3",
   "metadata": {},
   "outputs": [
    {
     "name": "stdout",
     "output_type": "stream",
     "text": [
      "Original array (array_a):\n",
      "[[ 1  2  3]\n",
      " [ 4 10 11]\n",
      " [ 7 13 14]\n",
      " [10 11 12]]\n",
      "\n",
      "View slice (view_b):\n",
      "[[10 11]\n",
      " [13 14]]\n"
     ]
    }
   ],
   "source": [
    "#78. Create a NumPy array `array_a` of shape (4, 3) with sequential integers from 1 to 12. Extract a slice `view_b` from `array_a` and broadcast the addition of 5 to view_b. Check if it alters the original `array_a`.\n",
    "\n",
    "array_a = np.arange(1, 13).reshape(4, 3)\n",
    "\n",
    "view_b = array_a[1:3, 1:3]\n",
    "\n",
    "view_b += 5\n",
    "\n",
    "print(\"Original array (array_a):\")\n",
    "print(array_a)\n",
    "print(\"\\nView slice (view_b):\")\n",
    "print(view_b)"
   ]
  },
  {
   "cell_type": "code",
   "execution_count": 79,
   "id": "af1c954a-2d0a-4447-bca5-3dc4aff590c3",
   "metadata": {},
   "outputs": [
    {
     "name": "stdout",
     "output_type": "stream",
     "text": [
      "Original array (orig_array):\n",
      "[[  1   2 999   4]\n",
      " [  5   6   7   8]]\n",
      "\n",
      "Reshaped view (reshaped_view):\n",
      "[[  1   2]\n",
      " [999   4]\n",
      " [  5   6]\n",
      " [  7   8]]\n"
     ]
    }
   ],
   "source": [
    "#79. Create a NumPy array `orig_array` of shape (2, 4) with values from 1 to 8. Create a reshaped view `reshaped_view` of shape (4, 2) from orig_array. Modify an element in `reshaped_view` and check if it reflects changes in the original `orig_array`.\n",
    "\n",
    "orig_array = np.arange(1, 9).reshape(2, 4)\n",
    "\n",
    "reshaped_view = orig_array.reshape(4, 2)\n",
    "\n",
    "reshaped_view[1, 0] = 999\n",
    "\n",
    "print(\"Original array (orig_array):\")\n",
    "print(orig_array)\n",
    "print(\"\\nReshaped view (reshaped_view):\")\n",
    "print(reshaped_view)"
   ]
  },
  {
   "cell_type": "code",
   "execution_count": 87,
   "id": "81c66982-9705-4921-9071-ce19d1d31efa",
   "metadata": {},
   "outputs": [
    {
     "name": "stdout",
     "output_type": "stream",
     "text": [
      "Original array (data):\n",
      "[[5 8 1 5]\n",
      " [1 7 5 3]\n",
      " [5 7 4 4]]\n",
      "\n",
      "Copy of elements greater than 5 (data_copy):\n",
      "[[999   7   7]]\n"
     ]
    }
   ],
   "source": [
    "#80. Create a NumPy array `data` of shape (3, 4) with random integers. Extract a copy `data_copy` of elements greater than 5. Modify an element in `data_copy` and verify if it affects the original `data`.\n",
    "\n",
    "data = np.random.randint(1, 10, size=(3, 4))\n",
    "\n",
    "data_copy = data[data > 5].copy()\n",
    "\n",
    "num_elements = data_copy.size\n",
    "num_cols = min(data.shape[1], num_elements)\n",
    "num_rows = (num_elements + num_cols - 1) // num_cols  \n",
    "\n",
    "data_copy = data_copy.reshape(num_rows, num_cols)\n",
    "\n",
    "data_copy[0, 0] = 999\n",
    "\n",
    "print(\"Original array (data):\")\n",
    "print(data)\n",
    "print(\"\\nCopy of elements greater than 5 (data_copy):\")\n",
    "print(data_copy)"
   ]
  },
  {
   "cell_type": "code",
   "execution_count": 81,
   "id": "f9cb207c-c108-4dbd-a2ae-18290990c1b9",
   "metadata": {},
   "outputs": [
    {
     "name": "stdout",
     "output_type": "stream",
     "text": [
      "Matrix A:\n",
      "[[3 6 6]\n",
      " [1 9 2]\n",
      " [2 1 4]]\n",
      "\n",
      "Matrix B:\n",
      "[[9 9 5]\n",
      " [5 1 4]\n",
      " [8 4 3]]\n",
      "\n",
      "Addition result:\n",
      "[[12 15 11]\n",
      " [ 6 10  6]\n",
      " [10  5  7]]\n",
      "\n",
      "Subtraction result:\n",
      "[[-6 -3  1]\n",
      " [-4  8 -2]\n",
      " [-6 -3  1]]\n"
     ]
    }
   ],
   "source": [
    "#81. Create two matrices A and B of identical shape containing integers and perform addition and subtraction operations between them.\n",
    "\n",
    "shape = (3, 3)\n",
    "\n",
    "A = np.random.randint(1, 10, size=shape)\n",
    "\n",
    "B = np.random.randint(1, 10, size=shape)\n",
    "\n",
    "addition_result = A + B\n",
    "\n",
    "subtraction_result = A - B\n",
    "\n",
    "print(\"Matrix A:\")\n",
    "print(A)\n",
    "print(\"\\nMatrix B:\")\n",
    "print(B)\n",
    "print(\"\\nAddition result:\")\n",
    "print(addition_result)\n",
    "print(\"\\nSubtraction result:\")\n",
    "print(subtraction_result)"
   ]
  },
  {
   "cell_type": "code",
   "execution_count": 82,
   "id": "e4832944-9b05-4f79-b134-b19e68e102fb",
   "metadata": {},
   "outputs": [
    {
     "name": "stdout",
     "output_type": "stream",
     "text": [
      "Matrix C:\n",
      "[[2 2]\n",
      " [3 2]\n",
      " [5 3]]\n",
      "\n",
      "Matrix D:\n",
      "[[6 6 6 3]\n",
      " [6 8 8 7]]\n",
      "\n",
      "Result of matrix multiplication (C x D):\n",
      "[[24 28 28 20]\n",
      " [30 34 34 23]\n",
      " [48 54 54 36]]\n"
     ]
    }
   ],
   "source": [
    "#82. Generate two matrices `C` (3x2) and `D` (2x4) and perform matrix multiplication.\n",
    "\n",
    "C = np.random.randint(1, 10, size=(3, 2))\n",
    "\n",
    "D = np.random.randint(1, 10, size=(2, 4))\n",
    "\n",
    "multiplication_result = np.dot(C, D)\n",
    "\n",
    "print(\"Matrix C:\")\n",
    "print(C)\n",
    "print(\"\\nMatrix D:\")\n",
    "print(D)\n",
    "print(\"\\nResult of matrix multiplication (C x D):\")\n",
    "print(multiplication_result)"
   ]
  },
  {
   "cell_type": "code",
   "execution_count": 83,
   "id": "7ec77a24-2fdc-4c82-98fd-3f7d16fa704c",
   "metadata": {},
   "outputs": [
    {
     "name": "stdout",
     "output_type": "stream",
     "text": [
      "Matrix E:\n",
      "[[1 2 3]\n",
      " [4 5 6]]\n",
      "\n",
      "Transpose of matrix E:\n",
      "[[1 4]\n",
      " [2 5]\n",
      " [3 6]]\n"
     ]
    }
   ],
   "source": [
    "#83. Create a matrix `E` and find its transpose.\n",
    "\n",
    "E = np.array([[1, 2, 3],\n",
    "              [4, 5, 6]])\n",
    "\n",
    "E_transpose = np.transpose(E)\n",
    "\n",
    "print(\"Matrix E:\")\n",
    "print(E)\n",
    "print(\"\\nTranspose of matrix E:\")\n",
    "print(E_transpose)"
   ]
  },
  {
   "cell_type": "code",
   "execution_count": 84,
   "id": "e119c94f-a9de-456d-9e9e-a0f6e4b3cece",
   "metadata": {},
   "outputs": [
    {
     "name": "stdout",
     "output_type": "stream",
     "text": [
      "Matrix F:\n",
      "[[2 7 8 3]\n",
      " [4 2 6 3]\n",
      " [1 2 1 7]\n",
      " [1 5 9 5]]\n",
      "\n",
      "Determinant of matrix F: 659.9999999999999\n"
     ]
    }
   ],
   "source": [
    "#84. Generate a square matrix `F` and compute its determinant.\n",
    "\n",
    "F = np.random.randint(1, 10, size=(4, 4))  \n",
    "\n",
    "determinant_F = np.linalg.det(F)\n",
    "\n",
    "print(\"Matrix F:\")\n",
    "print(F)\n",
    "print(\"\\nDeterminant of matrix F:\", determinant_F)"
   ]
  },
  {
   "cell_type": "code",
   "execution_count": 85,
   "id": "332f3514-5157-4d87-adfe-c0f54f3a2aef",
   "metadata": {},
   "outputs": [
    {
     "name": "stdout",
     "output_type": "stream",
     "text": [
      "Matrix G:\n",
      "[[1 2]\n",
      " [3 4]]\n",
      "\n",
      "Inverse of matrix G:\n",
      "[[-2.   1. ]\n",
      " [ 1.5 -0.5]]\n"
     ]
    }
   ],
   "source": [
    "#85. Create a square matrix `G` and find its inverse.\n",
    "\n",
    "G = np.array([[1, 2],\n",
    "              [3, 4]])\n",
    "\n",
    "inverse_G = np.linalg.inv(G)\n",
    "\n",
    "print(\"Matrix G:\")\n",
    "print(G)\n",
    "print(\"\\nInverse of matrix G:\")\n",
    "print(inverse_G)"
   ]
  }
 ],
 "metadata": {
  "kernelspec": {
   "display_name": "Python 3 (ipykernel)",
   "language": "python",
   "name": "python3"
  },
  "language_info": {
   "codemirror_mode": {
    "name": "ipython",
    "version": 3
   },
   "file_extension": ".py",
   "mimetype": "text/x-python",
   "name": "python",
   "nbconvert_exporter": "python",
   "pygments_lexer": "ipython3",
   "version": "3.10.8"
  }
 },
 "nbformat": 4,
 "nbformat_minor": 5
}
